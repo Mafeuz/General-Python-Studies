{
 "cells": [
  {
   "cell_type": "code",
   "execution_count": 1,
   "id": "bb8359c3",
   "metadata": {},
   "outputs": [
    {
     "name": "stdout",
     "output_type": "stream",
     "text": [
      "Python implementation: CPython\n",
      "Python version       : 3.7.9\n",
      "IPython version      : 7.33.0\n",
      "\n",
      "Compiler    : MSC v.1900 64 bit (AMD64)\n",
      "OS          : Windows\n",
      "Release     : 10\n",
      "Machine     : AMD64\n",
      "Processor   : Intel64 Family 6 Model 140 Stepping 2, GenuineIntel\n",
      "CPU cores   : 8\n",
      "Architecture: 64bit\n",
      "\n",
      "cv2        : 4.5.5\n",
      "torch      : 1.8.1+cu101\n",
      "pandas     : 1.3.5\n",
      "numpy      : 1.21.6\n",
      "tensorflow : 2.0.0\n",
      "torchvision: 0.9.1+cu101\n",
      "\n"
     ]
    }
   ],
   "source": [
    "%load_ext watermark\n",
    "import cv2\n",
    "import numpy as np\n",
    "import torch\n",
    "import torchvision\n",
    "import pandas\n",
    "import tensorflow as tf\n",
    "%watermark -v -m --iversions"
   ]
  },
  {
   "cell_type": "code",
   "execution_count": null,
   "id": "771721c9",
   "metadata": {},
   "outputs": [],
   "source": [
    "!pip freeze > requirements.txt"
   ]
  },
  {
   "cell_type": "code",
   "execution_count": 2,
   "id": "e7f2623d",
   "metadata": {},
   "outputs": [],
   "source": [
    "def config_pylog(log_file):\n",
    "    \n",
    "    import logging\n",
    "    import sys\n",
    "    \n",
    "    logger = logging.getLogger()\n",
    "    logger.setLevel(logging.INFO)\n",
    "    formatter = logging.Formatter('%(asctime)s | %(levelname)s | %(message)s')\n",
    "\n",
    "    stdout_handler = logging.StreamHandler(sys.stdout)\n",
    "    stdout_handler.setLevel(logging.DEBUG)\n",
    "    stdout_handler.setFormatter(formatter)\n",
    "\n",
    "    file_handler = logging.FileHandler(f'{log_file}')\n",
    "    file_handler.setLevel(logging.DEBUG)\n",
    "    file_handler.setFormatter(formatter)\n",
    "\n",
    "    logger.addHandler(file_handler)\n",
    "    logger.addHandler(stdout_handler)\n",
    "\n",
    "    return logger"
   ]
  },
  {
   "cell_type": "code",
   "execution_count": 3,
   "id": "ddad2967",
   "metadata": {},
   "outputs": [
    {
     "name": "stdout",
     "output_type": "stream",
     "text": [
      "2022-08-14 15:48:25,837 | INFO | Testing\n"
     ]
    }
   ],
   "source": [
    "logger = config_pylog('my_log.log')\n",
    "\n",
    "logger.info('Testing')"
   ]
  },
  {
   "cell_type": "code",
   "execution_count": 4,
   "id": "f34eae29",
   "metadata": {},
   "outputs": [
    {
     "name": "stdout",
     "output_type": "stream",
     "text": [
      "2022-08-14 15:48:29,111 | INFO | Testing 2\n"
     ]
    }
   ],
   "source": [
    "logger.info('Testing 2')"
   ]
  },
  {
   "cell_type": "code",
   "execution_count": null,
   "id": "d0f2b7b1",
   "metadata": {},
   "outputs": [],
   "source": []
  }
 ],
 "metadata": {
  "kernelspec": {
   "display_name": "Python 3 (ipykernel)",
   "language": "python",
   "name": "python3"
  },
  "language_info": {
   "codemirror_mode": {
    "name": "ipython",
    "version": 3
   },
   "file_extension": ".py",
   "mimetype": "text/x-python",
   "name": "python",
   "nbconvert_exporter": "python",
   "pygments_lexer": "ipython3",
   "version": "3.7.9"
  }
 },
 "nbformat": 4,
 "nbformat_minor": 5
}
