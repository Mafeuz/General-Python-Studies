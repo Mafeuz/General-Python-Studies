{
 "cells": [
  {
   "cell_type": "code",
   "execution_count": 31,
   "metadata": {},
   "outputs": [],
   "source": [
    "import os\n",
    "import glob\n",
    "import sys\n",
    "import shutil"
   ]
  },
  {
   "cell_type": "code",
   "execution_count": 19,
   "metadata": {},
   "outputs": [],
   "source": [
    "rootdir = 'C:/Users/Mafeus/Desktop/Git_Repos/'"
   ]
  },
  {
   "cell_type": "code",
   "execution_count": 36,
   "metadata": {},
   "outputs": [
    {
     "name": "stdout",
     "output_type": "stream",
     "text": [
      "C:/Users/Mafeus/Desktop/Git_Repos/OpenCV\\__pycache__ deleted! Deletion 1\n",
      "C:/Users/Mafeus/Desktop/Git_Repos/OpenCV\\Annotation Tool\\.ipynb_checkpoints deleted! Deletion 2\n"
     ]
    }
   ],
   "source": [
    "cnt = 0\n",
    "\n",
    "for subdir, dirs, files in os.walk(rootdir):\n",
    "    \n",
    "    for dirc in dirs:\n",
    "        \n",
    "        dirc_path = os.path.join(subdir, dirc)\n",
    "\n",
    "        dirc_name = dirc_path.split('\\\\')[-1].split(',')[0]\n",
    "\n",
    "        if (dirc_name == '__pycache__') or (dirc_name =='.ipynb_checkpoints'):\n",
    "            cnt += 1\n",
    "\n",
    "            try: \n",
    "                shutil.rmtree(dirc_path)\n",
    "                print(dirc_path  + ' deleted!' + ' Deletion {}'.format(cnt))\n",
    "\n",
    "            except ValueError:\n",
    "                print('File {}'.format(cnt) + ' could not be deleted')\n",
    "                continue\n",
    "\n",
    "            except OSError as err:\n",
    "                print('Error {}'.format(err))\n",
    "                continue\n",
    "            "
   ]
  },
  {
   "cell_type": "code",
   "execution_count": null,
   "metadata": {},
   "outputs": [],
   "source": []
  }
 ],
 "metadata": {
  "kernelspec": {
   "display_name": "Python 3",
   "language": "python",
   "name": "python3"
  },
  "language_info": {
   "codemirror_mode": {
    "name": "ipython",
    "version": 3
   },
   "file_extension": ".py",
   "mimetype": "text/x-python",
   "name": "python",
   "nbconvert_exporter": "python",
   "pygments_lexer": "ipython3",
   "version": "3.7.1"
  }
 },
 "nbformat": 4,
 "nbformat_minor": 2
}
